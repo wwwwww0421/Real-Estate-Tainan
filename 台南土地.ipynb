{
  "nbformat": 4,
  "nbformat_minor": 0,
  "metadata": {
    "colab": {
      "name": "台南土地.ipynb",
      "provenance": []
    },
    "kernelspec": {
      "name": "python3",
      "display_name": "Python 3"
    },
    "language_info": {
      "name": "python"
    }
  },
  "cells": [
    {
      "cell_type": "code",
      "metadata": {
        "colab": {
          "base_uri": "https://localhost:8080/"
        },
        "id": "X-NaMO2efw6d",
        "outputId": "a2cee632-ce95-46c3-a009-840e30bd6d77"
      },
      "source": [
        "from google.colab import drive\n",
        "drive.mount('/content/drive')"
      ],
      "execution_count": null,
      "outputs": [
        {
          "output_type": "stream",
          "text": [
            "Mounted at /content/drive\n"
          ],
          "name": "stdout"
        }
      ]
    },
    {
      "cell_type": "code",
      "metadata": {
        "id": "188Cs5c9fyMD"
      },
      "source": [
        "import requests\n",
        "from bs4 import BeautifulSoup\n",
        "import csv\n",
        "\n",
        "url = 'https://www.house-info.com.tw/Region-Land/%E4%B8%AD%E8%A5%BF%E5%8D%80%E5%9C%9F%E5%9C%B0.htm?RegionID=192'\n",
        "headers = {\n",
        "    'user-agent' : 'Mozilla/5.0 (Windows NT 10.0; Win64; x64) AppleWebKit/537.36 (KHTML, like Gecko) Chrome/84.0.4147.125 Safari/537.36'\n",
        "    }\n",
        "response = requests.get(url, headers = headers)\n",
        "bs = BeautifulSoup(response.text, 'html.parser')"
      ],
      "execution_count": null,
      "outputs": []
    },
    {
      "cell_type": "code",
      "metadata": {
        "colab": {
          "base_uri": "https://localhost:8080/"
        },
        "id": "qDJ_QQSIRcaa",
        "outputId": "0dc1215d-2635-4a91-f623-e5a6de9ef1e6"
      },
      "source": [
        "with open('/content/drive/MyDrive/台南土地.csv', 'w', encoding='utf-8', newline='') as csv_file:\n",
        "  csv_writer = csv.writer(csv_file)\n",
        "  csv_writer.writerow(['案名', '坪數', '種類', '位置', '開價', '網頁'])\n",
        "\n",
        "  for page in range(4):\n",
        "    \n",
        "    url = 'https://www.house-info.com.tw/Region-Land/%E4%B8%AD%E8%A5%BF%E5%8D%80%E5%9C%9F%E5%9C%B0.htm?p='+str(page)+'&RegionID=192'\n",
        "    headers = {\n",
        "      'user-agent' : 'Mozilla/5.0 (Windows NT 10.0; Win64; x64) AppleWebKit/537.36 (KHTML, like Gecko) Chrome/84.0.4147.125 Safari/537.36'\n",
        "      }\n",
        "    response = requests.get(url, headers = headers)\n",
        "    bs = BeautifulSoup(response.text, 'html.parser')\n",
        "\n",
        "    info_items = bs.find_all('li','liCase')\n",
        "    #print(info_items)\n",
        "\n",
        "    for item in info_items:\n",
        "      name = item.find('dt','cssCaseName').findNext('a').text\n",
        "      size = item.find('dt').findNext('dt').findNext('dt').findNext('dt').text\n",
        "      cate = item.find('dt').findNext('dt').findNext('dt').text\n",
        "      place = item.find('dt').findNext('dt').findNext('dt').findNext('dt').findNext('dt').text\n",
        "      price = item.find('dt').findNext('dt').findNext('dt').findNext('dt').findNext('dt').findNext('dt').text\n",
        "      web = item.find('dt','cssCaseName').findNext('a').get('href')\n",
        "      web2 = 'https://www.house-info.com.tw'+web[2:]\n",
        "      print('案名:{} 坪數:{} 種類:{} 位置:{} 開價:{} 網頁:{}'.format(name, size, cate, place, price, web2))\n",
        "      csv_writer.writerow([name, size, cate, place, price, web2])"
      ],
      "execution_count": null,
      "outputs": [
        {
          "output_type": "stream",
          "text": [
            "案名:中西區忠孝街建地 坪數:29.64 坪 種類:建地 位置:台南中西區忠孝街 開價:售988萬 網頁:https://www.house-info.com.tw/中西區-HL260773.htm\n",
            "案名:臨安路前後臨路店面地 坪數:61.458 坪 種類:建地 位置:台南中西區臨安路一段 開價:售2,380萬 網頁:https://www.house-info.com.tw/中西區-HL399262.htm\n",
            "案名:中西區稀有方正建地 坪數:22.08 坪 種類:建地 位置:台南中西區成功路 開價:售498萬 網頁:https://www.house-info.com.tw/中西區-HL434778.htm\n",
            "案名:神農街旁雙城商業店面 坪數:27.58 坪 種類:建地 位置:台南中西區民權路三段 開價:售1,599萬 網頁:https://www.house-info.com.tw/中西區-HL438690.htm\n",
            "案名:健康路一段76店面建 坪數:45.62 坪 種類:建地 位置:台南中西區健康路一段 開價:售5,728萬 網頁:https://www.house-info.com.tw/中西區-HL439390.htm\n",
            "案名:海安路黃金店面商業地 坪數:232.01 坪 種類:商業地 位置:台南中西區海安路 開價:售23,202萬 網頁:https://www.house-info.com.tw/海安路-HL440264.htm\n",
            "案名:孔廟98商業地絕版釋 坪數:98.31 坪 種類:商業地 位置:台南中西區中西區開山 開價:售5,888萬 網頁:https://www.house-info.com.tw/孔廟98商業地絕版釋出-HL438765.htm\n",
            "案名:康樂建地 坪數:49 坪 種類:建地 位置:台南中西區永安段 開價:售2,100萬 網頁:https://www.house-info.com.tw/康樂建地-HL421842.htm\n",
            "案名:海安商圈太空漫步民宿 坪數:19.05 坪 種類:住宅地 位置:台南中西區永華路一段 開價:售798萬售698萬 網頁:https://www.house-info.com.tw/海安商圈太空漫步民宿-HL423876.htm\n",
            "案名:赤崁商圈商業建地 坪數:29.94 坪 種類:建地 位置:台南中西區成功路 開價:售1,200萬 網頁:https://www.house-info.com.tw/中西區建地-HL414917.htm\n",
            "案名:赤崁商圈商業建地~商 坪數:29.94 坪 種類:建地 位置:台南中西區普濟段 開價:售1,200萬 網頁:https://www.house-info.com.tw/台南市中西區赤崁商圈商業建地普濟段商圈聚集店面林立-HL415406.htm\n",
            "案名:中西區【成功路】靜巷 坪數:20.58 坪 種類:建地 位置:台南中西區成功路、國 開價:售828萬 網頁:https://www.house-info.com.tw/台南房屋台南土地台南不動產台南廠房台南店面台南公寓台南大樓台-HL450914.htm\n",
            "案名:台南市中西區~住宅用 坪數:153.99 坪 種類:住宅地 位置:台南中西區和緯路四段 開價:售7,700萬 網頁:https://www.house-info.com.tw/中西區建地-HL450229.htm\n",
            "案名:台南市中西區~住宅用 坪數:195.2 坪 種類:住宅地 位置:台南中西區民權路四段 開價:售6,980萬 網頁:https://www.house-info.com.tw/中西區建地-HL414230.htm\n",
            "案名:台南市中西區~住宅用 坪數:24.67 坪 種類:住宅地 位置:台南中西區中華西路二 開價:售928萬 網頁:https://www.house-info.com.tw/中西區建地-HL438827.htm\n",
            "案名:台南市中西區~商業用 坪數:119.79 坪 種類:商業地 位置:台南中西區康樂街 開價:售10,560萬 網頁:https://www.house-info.com.tw/中西區商業建地-HL437952.htm\n",
            "案名:台南市中西區~住宅用 坪數:19.05 坪 種類:住宅地 位置:台南中西區永華路一段 開價:售798萬 網頁:https://www.house-info.com.tw/中西區建地-HL430213.htm\n",
            "案名:◢康樂建地◣ 坪數:49 坪 種類:建地 位置:台南中西區老古石段 開價:售2,100萬 網頁:https://www.house-info.com.tw/康樂建地-HL421800.htm\n",
            "案名:赤崁商圈商業建地~商 坪數:29.94 坪 種類:建地 位置:台南中西區普濟段 開價:售1,200萬 網頁:https://www.house-info.com.tw/赤崁商圈商業建地普濟段商圈聚集店面林立-HL414909.htm\n",
            "案名:中西區信義老街稀有大 坪數:21.08 坪 種類:建地 位置:台南中西區中西區 開價:售425萬 網頁:https://www.house-info.com.tw/中西區信義老街稀有大地坪建地-HL456587.htm\n",
            "案名:和緯黃昏市場153角 坪數:153.99 坪 種類:建地 位置:台南中西區 開價:售7,700萬 網頁:https://www.house-info.com.tw/台南市中西區建地-HL449485.htm\n",
            "案名:全台首學近百坪商業地 坪數:98.31 坪 種類:商業地 位置:台南中西區開山路 開價:售5,888萬 網頁:https://www.house-info.com.tw/台南市中西區商業地-HL437031.htm\n",
            "案名:河樂廣場旁星鑽雙臨路 坪數:119.82 坪 種類:建地 位置:台南中西區康樂街 開價:售10,560萬 網頁:https://www.house-info.com.tw/台南市中西區建地-HL437844.htm\n",
            "案名:中西區成功路中成路商 坪數:225.11 坪 種類:商業地 位置:台南中西區成功路 開價:售11,250萬 網頁:https://www.house-info.com.tw/台南市中西區商業地-HL439434.htm\n",
            "案名:海安232稀有商業建 坪數:232.01 坪 種類:商業地 位置:台南中西區海安路一段 開價:售23,201萬 網頁:https://www.house-info.com.tw/台南市中西區商業地-HL442363.htm\n",
            "案名:海安商圈三角窗商業建 坪數:20.01 坪 種類:商業地 位置:台南中西區中正路 開價:售6,488萬 網頁:https://www.house-info.com.tw/台南市中西區商業地-HL443038.htm\n",
            "案名:【台南_中西建地】  坪數:22.55 坪 種類:建地 位置:台南中西區法華街 開價:售788萬 網頁:https://www.house-info.com.tw/南北房屋夢時代店惜福-HL437315.htm\n",
            "案名:★☆~康樂建地~☆★ 坪數:49 坪 種類:建地 位置:台南中西區永安段 開價:售2,100萬 網頁:https://www.house-info.com.tw/康樂建地-HL421745.htm\n",
            "案名:海安路生活圈95建地 坪數:95.28 坪 種類:建地 位置:台南中西區忠孝街 開價:售2,100萬 網頁:https://www.house-info.com.tw/好房kai模0930278328凱凱的家-HL320257.htm\n",
            "案名:中西區稀有俗建地 坪數:22.18 坪 種類:建地 位置:台南中西區信義街 開價:售498萬 網頁:https://www.house-info.com.tw/好房KAI模0930278328幸福房地一點通-HL434715.htm\n",
            "案名:府前美術館透天 坪數:61.96 坪 種類:建地 位置:台南中西區府前路一段 開價:售1,396萬 網頁:https://www.house-info.com.tw/台灣房屋民權加盟店土地買賣-HL378016.htm\n",
            "案名:國華街前後臨路建地A 坪數:20.58 坪 種類:建地 位置:台南中西區國華街 開價:售825萬 網頁:https://www.house-info.com.tw/台灣房屋民權加盟店土地買賣-HL414316.htm\n",
            "案名:國華街前後臨路建地B 坪數:9.39 坪 種類:建地 位置:台南中西區國華街 開價:售375萬 網頁:https://www.house-info.com.tw/台灣房屋民權加盟店土地買賣-HL414317.htm\n",
            "案名:買地送屋商業區賣持分 坪數:19.91 坪 種類:建地 位置:台南中西區郡西路 開價:售1,155萬售980萬 網頁:https://www.house-info.com.tw/台灣房屋民權加盟店土地買賣-HL429028.htm\n",
            "案名:中西區成功路中成路商 坪數:225.11 坪 種類:建地 位置:台南中西區成功路 開價:售11,250萬 網頁:https://www.house-info.com.tw/中西區成功路中成路商業建地-HL406570.htm\n",
            "案名:河樂廣場旁星鑽雙臨路 坪數:119.79 坪 種類:商業地 位置:台南中西區中西區 開價:售10,560萬 網頁:https://www.house-info.com.tw/河樂廣場旁星鑽雙臨路建地-HL437855.htm\n",
            "案名:全台首學近百坪商業地 坪數:98.31 坪 種類:建地 位置:台南中西區中西區 開價:售5,888萬 網頁:https://www.house-info.com.tw/全台首學近百坪商業地-HL437074.htm\n",
            "案名:赤崁段漫遊府城商業地 坪數:51.67 坪 種類:商業地 位置:台南中西區中西區 開價:售1,550萬 網頁:https://www.house-info.com.tw/赤崁段漫遊府城商業地-HL439193.htm\n",
            "案名:湖美一街靜巷建地 坪數:29.93 坪 種類:建地 位置:台南中西區中西區 開價:售990萬 網頁:https://www.house-info.com.tw/湖美一街靜巷建地-HL442908.htm\n",
            "案名:中正商圈商業鑫地 坪數:28.28 坪 種類:建地 位置:台南中西區中西區 開價:售6,998萬 網頁:https://www.house-info.com.tw/中正商圈商業鑫地-HL442915.htm\n",
            "案名:海安商圈三角窗商業建 坪數:20.01 坪 種類:商業地 位置:台南中西區中西區 開價:售6,488萬 網頁:https://www.house-info.com.tw/海安商圈三角窗商業建地-HL442936.htm\n",
            "案名:星鑽特區25坪觀特二 坪數:25.31 坪 種類:其他 位置:台南中西區中西區 開價:售2,228萬 網頁:https://www.house-info.com.tw/星鑽特區25坪觀特二用地-HL446069.htm\n",
            "案名:近新光三越美方正建地 坪數:20.36 坪 種類:建地 位置:台南中西區中西區 開價:售788萬 網頁:https://www.house-info.com.tw/近新光三越美方正建地-HL449459.htm\n",
            "案名:和緯黃昏市場153角 坪數:153.99 坪 種類:建地 位置:台南中西區中西區 開價:售7,700萬 網頁:https://www.house-info.com.tw/和緯黃昏市場153角窗建地-HL449471.htm\n",
            "案名:美學館雙臨路大面寬建 坪數:85.45 坪 種類:建地 位置:台南中西區中西區 開價:售4,956萬 網頁:https://www.house-info.com.tw/美學館雙臨路大面寬建地-HL450931.htm\n",
            "案名:中西區湖美豪宅建地 坪數:30.25 坪 種類:建地 位置:台南中西區湖美街 開價:售1,098萬 網頁:https://www.house-info.com.tw/大台南建地投資買賣自地自建中西區商業住宅區免費專業估價諮詢履-HL448392.htm\n",
            "案名:星鑽特區25坪觀特二 坪數:25.31 坪 種類:建地 位置:台南中西區大涼路vs 開價:售2,228萬 網頁:https://www.house-info.com.tw/大台南建地投資買賣自地自建中西區商業住宅區免費專業估價諮詢履-HL448393.htm\n",
            "案名:海安商圈三角窗商業建 坪數:20.01 坪 種類:建地 位置:台南中西區中正路 開價:售6,488萬 網頁:https://www.house-info.com.tw/大台南建地投資買賣自地自建中西區商業住宅區免費專業估價諮詢履-HL448395.htm\n",
            "案名:中正商圈商業鑫地 坪數:28.28 坪 種類:建地 位置:台南中西區中正路 開價:售6,998萬 網頁:https://www.house-info.com.tw/大台南建地投資買賣自地自建中西區商業住宅區免費專業估價諮詢履-HL448396.htm\n",
            "案名:湖美一街靜巷建地 坪數:29.93 坪 種類:建地 位置:台南中西區湖美一街1 開價:售990萬 網頁:https://www.house-info.com.tw/大台南建地投資買賣自地自建中西區商業住宅區免費專業估價諮詢履-HL448397.htm\n",
            "案名:海安232稀有商業建 坪數:232.01 坪 種類:建地 位置:台南中西區海安路一段 開價:售23,201萬 網頁:https://www.house-info.com.tw/大台南建地投資買賣自地自建中西區商業住宅區免費專業估價諮詢履-HL448398.htm\n",
            "案名:河樂廣場旁星鑽雙臨路 坪數:119.79 坪 種類:建地 位置:台南中西區康樂街 開價:售10,560萬 網頁:https://www.house-info.com.tw/大台南建地投資買賣自地自建中西區商業住宅區免費專業估價諮詢履-HL448399.htm\n",
            "案名:全臺首學近百坪商業地 坪數:98.31 坪 種類:建地 位置:台南中西區開山路84 開價:售5,888萬 網頁:https://www.house-info.com.tw/大台南建地投資買賣自地自建中西區商業住宅區免費專業估價諮詢履-HL448400.htm\n",
            "案名:中西雙城低總價方正建 坪數:22.14 坪 種類:建地 位置:台南中西區文賢路11 開價:售498萬 網頁:https://www.house-info.com.tw/大台南建地投資買賣自地自建中西區商業住宅區免費專業估價諮詢履-HL448401.htm\n",
            "案名:府前風華絕美宅院 坪數:10.22 坪 種類:建地 位置:台南中西區府前路一段 開價:售558萬 網頁:https://www.house-info.com.tw/大台南建地投資買賣自地自建中西區商業住宅區免費專業估價諮詢履-HL448402.htm\n",
            "案名:新天地魔幻膠囊旅宿建 坪數:19.05 坪 種類:建地 位置:台南中西區永華路一段 開價:售698萬 網頁:https://www.house-info.com.tw/大台南建地投資買賣自地自建中西區商業住宅區免費專業估價諮詢履-HL448403.htm\n",
            "案名:神農街的買地送厝金店 坪數:2.55 坪 種類:建地 位置:台南中西區地上物門牌 開價:售998萬 網頁:https://www.house-info.com.tw/大台南建地投資買賣自地自建中西區商業住宅區免費專業估價諮詢履-HL448404.htm\n",
            "案名:赤崁文創情有獨鍾洋房 坪數:32.83 坪 種類:建地 位置:台南中西區永福路二段 開價:售1,388萬 網頁:https://www.house-info.com.tw/大台南建地投資買賣自地自建中西區商業住宅區免費專業估價諮詢履-HL448405.htm\n",
            "案名:國華商圈優質商業地 坪數:14.4 坪 種類:建地 位置:台南中西區國華街三段 開價:售800萬 網頁:https://www.house-info.com.tw/大台南建地投資買賣自地自建中西區商業住宅區免費專業估價諮詢履-HL448406.htm\n",
            "案名:成功臨安2米靜巷37 坪數:37.26 坪 種類:建地 位置:台南中西區成功路49 開價:售1,340萬 網頁:https://www.house-info.com.tw/大台南建地投資買賣自地自建中西區商業住宅區免費專業估價諮詢履-HL448407.htm\n",
            "案名:中西區成功路中成路商 坪數:225.11 坪 種類:建地 位置:台南中西區成功路 開價:售11,250萬 網頁:https://www.house-info.com.tw/大台南建地投資買賣自地自建中西區商業住宅區免費專業估價諮詢履-HL448409.htm\n",
            "案名:正興商圈必買黃金店地 坪數:35 坪 種類:建地 位置:台南中西區正興街 開價:售3,326萬 網頁:https://www.house-info.com.tw/大台南建地投資買賣自地自建中西區商業住宅區免費專業估價諮詢履-HL448410.htm\n",
            "案名:雙城區兌悅門建地附建 坪數:22.08 坪 種類:建地 位置:台南中西區永安段 開價:售498萬 網頁:https://www.house-info.com.tw/台南市中西區土地農地建地BA9020-HL443335.htm\n",
            "案名:頂美豪宅區建地YC0 坪數:88.9 坪 種類:建地 位置:台南中西區頂美段 開價:售3,880萬 網頁:https://www.house-info.com.tw/台南市中西區土地農地建地BA9026-HL443336.htm\n",
            "案名:國華街三段商業區建地 坪數:37.16 坪 種類:商業地 位置:台南中西區普濟段 開價:售998萬 網頁:https://www.house-info.com.tw/台南市中西區土地農地建地BB9003-HL439301.htm\n",
            "案名:國華街三段商業區建地 坪數:37.16 坪 種類:商業地 位置:台南中西區普濟段 開價:售1,088萬 網頁:https://www.house-info.com.tw/台南市中西區土地農地建地BB9003-HL412816.htm\n",
            "案名:協進國小美建地 坪數:41.899 坪 種類:建地 位置:台南中西區中西區 開價:售1,580萬 網頁:https://www.house-info.com.tw/協進國小美建地-HL442546.htm\n",
            "案名:民權路黃金建地 坪數:27.58 坪 種類:商業地 位置:台南中西區老古石段 開價:售1,599萬 網頁:https://www.house-info.com.tw/民權路黃金建地-HL447214.htm\n",
            "案名:頑皮世界便宜農地(一 坪數:736.58 坪 種類:農地 位置:台南中西區台南市鹽水 開價:售302萬 網頁:https://www.house-info.com.tw/頑皮世界便宜農地一-HL445330.htm\n",
            "案名:金華路三段建地 坪數:166.13 坪 種類:建地 位置:台南中西區金華路三段 開價:售4,150萬 網頁:https://www.house-info.com.tw/金華路三段建地-HL445329.htm\n",
            "案名:海安路商業建地 坪數:232.02 坪 種類:建地 位置:台南中西區保安段 開價:售23,202萬 網頁:https://www.house-info.com.tw/海安路商業建地-HL444016.htm\n",
            "案名:國華街三段商業區建地 坪數:37.168 坪 種類:建地 位置:台南中西區普濟段 開價:售1,088萬售998萬 網頁:https://www.house-info.com.tw/國華街三段商業區建地-HL409025.htm\n",
            "案名:雙城區兌悅門建地附建 坪數:22.083 坪 種類:建地 位置:台南中西區永安段 開價:售498萬 網頁:https://www.house-info.com.tw/雙城區兌悅門建地附建照-HL436648.htm\n",
            "案名:湖美一街靜巷建地 坪數:29.93 坪 種類:建地 位置:台南中西區成光段 開價:售990萬 網頁:https://www.house-info.com.tw/台南買房成大長榮學校透天店面大樓幸福永慶信義東西南北高鐵車站-HL443076.htm\n",
            "案名:赤崁商圈商業建地 坪數:29.94 坪 種類:建地 位置:台南中西區普濟段 開價:售1,200萬 網頁:https://www.house-info.com.tw/赤崁商圈商業建地-HL414944.htm\n",
            "案名:中西區小西腳商業用地 坪數:27.65 坪 種類:商業地 位置:台南中西區南門段 開價:售637萬 網頁:https://www.house-info.com.tw/中西區小西腳商業用地-HL428028.htm\n",
            "案名:健康路一段76坪店面 坪數:75.921 坪 種類:建地 位置:台南中西區健康路一段 開價:售5,728萬 網頁:https://www.house-info.com.tw/台南買屋賣屋土地店面廠房永慶房仲幸福家鄭仔寮九份子南科591-HL440770.htm\n",
            "案名:神農街旁雙城商業店面 坪數:27.584 坪 種類:建地 位置:台南中西區老古石段 開價:售1,599萬 網頁:https://www.house-info.com.tw/台南買屋賣屋土地店面廠房永慶房仲幸福家鄭仔寮九份子南科591-HL440769.htm\n",
            "案名:湖美約6米大面寬建地 坪數:24.67 坪 種類:建地 位置:台南中西區頂美段 開價:售928萬 網頁:https://www.house-info.com.tw/台南買房成大長榮學校透天店面大樓幸福永慶信義東西南北高鐵車站-HL440523.htm\n",
            "案名:河樂廣場旁星鑽雙臨路 坪數:119.79 坪 種類:建地 位置:台南中西區康樂街 開價:售10,560萬 網頁:https://www.house-info.com.tw/房地買賣-HL439787.htm\n",
            "案名:河樂廣場旁星鑽雙臨路 坪數:119.79 坪 種類:商業地 位置:台南中西區星鑽段 開價:售10,560萬 網頁:https://www.house-info.com.tw/台南買房成大長榮學校透天店面大樓幸福永慶信義東西南北高鐵車站-HL438060.htm\n"
          ],
          "name": "stdout"
        }
      ]
    }
  ]
}