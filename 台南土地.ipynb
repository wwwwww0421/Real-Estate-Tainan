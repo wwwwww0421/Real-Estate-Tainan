{
  "cells": [
    {
      "cell_type": "code",
      "execution_count": 1,
      "metadata": {
        "colab": {
          "base_uri": "https://localhost:8080/"
        },
        "id": "X-NaMO2efw6d",
        "outputId": "a2cee632-ce95-46c3-a009-840e30bd6d77"
      },
      "outputs": [],
      "source": [
        "import pandas as pd\n",
        "from data_preprocessing import get_lat_lon"
      ]
    },
    {
      "cell_type": "code",
      "execution_count": 2,
      "metadata": {
        "id": "188Cs5c9fyMD"
      },
      "outputs": [],
      "source": [
        "import requests\n",
        "from bs4 import BeautifulSoup\n",
        "import csv\n",
        "\n",
        "url = 'https://www.house-info.com.tw/Region-Land/%E4%B8%AD%E8%A5%BF%E5%8D%80%E5%9C%9F%E5%9C%B0.htm?RegionID=192'\n",
        "headers = {\n",
        "    'user-agent' : 'Mozilla/5.0 (Windows NT 10.0; Win64; x64) AppleWebKit/537.36 (KHTML, like Gecko) Chrome/84.0.4147.125 Safari/537.36'\n",
        "    }\n",
        "response = requests.get(url, headers = headers)\n",
        "bs = BeautifulSoup(response.text, 'html.parser')"
      ]
    },
    {
      "cell_type": "code",
      "execution_count": 5,
      "metadata": {
        "colab": {
          "base_uri": "https://localhost:8080/"
        },
        "id": "qDJ_QQSIRcaa",
        "outputId": "0dc1215d-2635-4a91-f623-e5a6de9ef1e6"
      },
      "outputs": [],
      "source": [
        "\n",
        "def go(totalpages): \n",
        "  with open('./台南土地.csv', 'w', encoding='utf-8', newline='') as csv_file:\n",
        "    csv_writer = csv.writer(csv_file)\n",
        "    csv_writer.writerow(['案名', '坪數', '種類', '位置', '開價', '網頁'])\n",
        "\n",
        "    for page in range(1, totalpages):\n",
        "      \n",
        "      url = 'https://www.house-info.com.tw/Region-Land/%E4%B8%AD%E8%A5%BF%E5%8D%80%E5%9C%9F%E5%9C%B0.htm?p='+str(page)+'&RegionID=192'\n",
        "      headers = {\n",
        "        'user-agent' : 'Mozilla/5.0 (Windows NT 10.0; Win64; x64) AppleWebKit/537.36 (KHTML, like Gecko) Chrome/84.0.4147.125 Safari/537.36'\n",
        "        }\n",
        "      response = requests.get(url, headers = headers)\n",
        "      bs = BeautifulSoup(response.text, 'html.parser')\n",
        "\n",
        "      info_items = bs.find_all('li','liCase')\n",
        "      #print(info_items)\n",
        "\n",
        "      for item in info_items:\n",
        "        name = item.find('dt','cssCaseName').findNext('a').text\n",
        "        size = item.find('dt').findNext('dt').findNext('dt').findNext('dt').text\n",
        "        cate = item.find('dt').findNext('dt').findNext('dt').text\n",
        "        place = item.find('dt').findNext('dt').findNext('dt').findNext('dt').findNext('dt').text\n",
        "        price = item.find('dt').findNext('dt').findNext('dt').findNext('dt').findNext('dt').findNext('dt').text\n",
        "        web = item.find('dt','cssCaseName').findNext('a').get('href')\n",
        "        web2 = 'https://www.house-info.com.tw'+web[2:]\n",
        "        print('案名:{} 坪數:{} 種類:{} 位置:{} 開價:{} 網頁:{}'.format(name, size, cate, place, price, web2))\n",
        "        csv_writer.writerow([name, size, cate, place, price, web2])"
      ]
    },
    {
      "cell_type": "code",
      "execution_count": 6,
      "metadata": {},
      "outputs": [
        {
          "name": "stdout",
          "output_type": "stream",
          "text": [
            "案名:中西區青年路黃金店面 坪數:21.69 坪 種類:建地 位置:台南中西區青年路 開價:售1398萬 網頁:https://www.house-info.com.tw/台南土地農地工業地建地廠房農舍道路用地-HL570800.htm\n",
            "案名:民權路商業建地送店面 坪數:66.09 坪 種類:商業地 位置:台南中西區中西區民權 開價:售4200萬 網頁:https://www.house-info.com.tw/台南市大樓套房透天別墅店面店住投資廠房廠辦套房電梯車墅-HL547468.htm\n",
            "案名:湖美社區優質建地 坪數:29.93 坪 種類:建地 位置:台南中西區成光段 開價:售1078萬 網頁:https://www.house-info.com.tw/台南市土地農地建地休閒地買賣實價登錄行情價阿善幸福家-HL578377.htm\n",
            "案名:成功路大地坪送金店面 坪數:82.945 坪 種類:建地 位置:台南中西區成功路 開價:售5650萬 網頁:https://www.house-info.com.tw/台南幸福房地一點通0930278328好房Kai模-HL470701.htm\n",
            "案名:海安路生活圈95建地 坪數:95.28 坪 種類:建地 位置:台南中西區忠孝街 開價:售2100萬 網頁:https://www.house-info.com.tw/好房kai模0930278328凱凱的家-HL320257.htm\n",
            "案名:中西區正興街154商 坪數:154.789 坪 種類:建地_商業地 位置:台南中西區星鑽段 開價:售1億1586萬 網頁:https://www.house-info.com.tw/台南買屋賣屋建地透天591幸福家中信台灣太平洋永慶信義林惠美-HL576020.htm\n",
            "案名:專-台南市心211坪 坪數:211.14 坪 種類:建地 位置:台南中西區鑫左岸大樓 開價:售1億2246萬 網頁:https://www.house-info.com.tw/專台南市心211坪美建地-HL584333.htm\n",
            "案名:中西區停車場用地 坪數:36.28 坪 種類:停c4停車場用 位置:台南中西區西賢六街 開價:售658萬 網頁:https://www.house-info.com.tw/中西區停車場用地-HL584705.htm\n",
            "案名:西門圓環近新天地超派 坪數:27.65 坪 種類:建地_道路地 位置:台南中西區西門路一段 開價:售1106萬 網頁:https://www.house-info.com.tw/西門圓環近新天地超派建地A-HL585183.htm\n",
            "案名:西門圓環近新天地超派 坪數:27.65 坪 種類:建地 位置:台南中西區西門路一段 開價:售1106萬 網頁:https://www.house-info.com.tw/西門圓環近新天地超派建地B-HL585184.htm\n",
            "案名:永華運動公園芳鄰建地 坪數:45.37 坪 種類:建地_住宅地 位置:台南中西區永華運動中 開價:售2632萬 網頁:https://www.house-info.com.tw/永華運動公園芳鄰建地-HL585185.htm\n",
            "案名:湖美稀有超值建地YC 坪數:29.93 坪 種類:建地 位置:台南中西區成光段 開價:售1078萬 網頁:https://www.house-info.com.tw/台南市中西區土地農地建地BC11007-HL529574.htm\n",
            "案名:永福國小金店面建地 坪數:69.88 坪 種類:建地 位置:台南中西區保西段 開價:售7338萬 網頁:https://www.house-info.com.tw/永福國小金店面建地-HL576897.htm\n",
            "案名:中西區蝸牛巷商圈31 坪數:31 坪 種類:商業地 位置:台南中西區保西段 開價:售800萬 網頁:https://www.house-info.com.tw/中西區蝸牛巷商圈31商業用地-HL573393.htm\n",
            "案名:G415中西區精華商 坪數:55 坪 種類:建地 位置:台南中西區西門路一段 開價:售2212萬 網頁:https://www.house-info.com.tw/中西區建地-HL571584.htm\n"
          ]
        }
      ],
      "source": [
        "go(20)"
      ]
    },
    {
      "cell_type": "code",
      "execution_count": 3,
      "metadata": {},
      "outputs": [],
      "source": [
        "df = pd.read_csv('./台南土地.csv')"
      ]
    },
    {
      "cell_type": "code",
      "execution_count": 4,
      "metadata": {},
      "outputs": [
        {
          "name": "stdout",
          "output_type": "stream",
          "text": [
            "Latitude: 25.828276, Longitude: 100.575175\n",
            "Latitude: 22.9964615, Longitude: 120.1981404\n",
            "Latitude: 22.924673, Longitude: 120.2864152\n",
            "Latitude: 22.98659, Longitude: 120.199186\n",
            "Latitude: 23.0010715, Longitude: 120.1714938\n",
            "Latitude: 22.9890662, Longitude: 120.1975005\n",
            "Latitude: 22.9890662, Longitude: 120.1975005\n",
            "Latitude: 35.0173505, Longitude: 135.7489413\n",
            "Latitude: 22.9890662, Longitude: 120.1975005\n",
            "Latitude: 25.828276, Longitude: 100.575175\n",
            "Latitude: 22.9964615, Longitude: 120.1981404\n",
            "Latitude: 22.924673, Longitude: 120.2864152\n",
            "Latitude: 22.98659, Longitude: 120.199186\n",
            "Latitude: 23.0010715, Longitude: 120.1714938\n",
            "Latitude: 22.9890662, Longitude: 120.1975005\n",
            "Latitude: 22.9890662, Longitude: 120.1975005\n",
            "Latitude: 35.0173505, Longitude: 135.7489413\n",
            "Latitude: 22.9890662, Longitude: 120.1975005\n"
          ]
        }
      ],
      "source": [
        "df['latitude'] = df.apply(lambda x: get_lat_lon(x['位置'])[0], axis=1)\n",
        "df['longitude'] = df.apply(lambda x: get_lat_lon(x['位置'])[1], axis=1)"
      ]
    },
    {
      "cell_type": "code",
      "execution_count": 5,
      "metadata": {},
      "outputs": [
        {
          "data": {
            "text/html": [
              "<div>\n",
              "<style scoped>\n",
              "    .dataframe tbody tr th:only-of-type {\n",
              "        vertical-align: middle;\n",
              "    }\n",
              "\n",
              "    .dataframe tbody tr th {\n",
              "        vertical-align: top;\n",
              "    }\n",
              "\n",
              "    .dataframe thead th {\n",
              "        text-align: right;\n",
              "    }\n",
              "</style>\n",
              "<table border=\"1\" class=\"dataframe\">\n",
              "  <thead>\n",
              "    <tr style=\"text-align: right;\">\n",
              "      <th></th>\n",
              "      <th>案名</th>\n",
              "      <th>坪數</th>\n",
              "      <th>種類</th>\n",
              "      <th>位置</th>\n",
              "      <th>開價</th>\n",
              "      <th>網頁</th>\n",
              "      <th>latitude</th>\n",
              "      <th>longitude</th>\n",
              "    </tr>\n",
              "  </thead>\n",
              "  <tbody>\n",
              "    <tr>\n",
              "      <th>0</th>\n",
              "      <td>中西區青年路黃金店面</td>\n",
              "      <td>21.69 坪</td>\n",
              "      <td>建地</td>\n",
              "      <td>台南中西區青年路</td>\n",
              "      <td>售1398萬</td>\n",
              "      <td>https://www.house-info.com.tw/台南土地農地工業地建地廠房農舍道...</td>\n",
              "      <td>25.828276</td>\n",
              "      <td>100.575175</td>\n",
              "    </tr>\n",
              "    <tr>\n",
              "      <th>1</th>\n",
              "      <td>民權路商業建地送店面</td>\n",
              "      <td>66.09 坪</td>\n",
              "      <td>商業地</td>\n",
              "      <td>台南中西區中西區民權</td>\n",
              "      <td>售4200萬</td>\n",
              "      <td>https://www.house-info.com.tw/台南市大樓套房透天別墅店面店住投...</td>\n",
              "      <td>22.996461</td>\n",
              "      <td>120.198140</td>\n",
              "    </tr>\n",
              "    <tr>\n",
              "      <th>2</th>\n",
              "      <td>湖美社區優質建地</td>\n",
              "      <td>29.93 坪</td>\n",
              "      <td>建地</td>\n",
              "      <td>台南中西區成光段</td>\n",
              "      <td>售1078萬</td>\n",
              "      <td>https://www.house-info.com.tw/台南市土地農地建地休閒地買賣實價...</td>\n",
              "      <td>NaN</td>\n",
              "      <td>NaN</td>\n",
              "    </tr>\n",
              "    <tr>\n",
              "      <th>3</th>\n",
              "      <td>成功路大地坪送金店面</td>\n",
              "      <td>82.945 坪</td>\n",
              "      <td>建地</td>\n",
              "      <td>台南中西區成功路</td>\n",
              "      <td>售5650萬</td>\n",
              "      <td>https://www.house-info.com.tw/台南幸福房地一點通0930278...</td>\n",
              "      <td>22.924673</td>\n",
              "      <td>120.286415</td>\n",
              "    </tr>\n",
              "    <tr>\n",
              "      <th>4</th>\n",
              "      <td>海安路生活圈95建地</td>\n",
              "      <td>95.28 坪</td>\n",
              "      <td>建地</td>\n",
              "      <td>台南中西區忠孝街</td>\n",
              "      <td>售2100萬</td>\n",
              "      <td>https://www.house-info.com.tw/好房kai模0930278328...</td>\n",
              "      <td>22.986590</td>\n",
              "      <td>120.199186</td>\n",
              "    </tr>\n",
              "  </tbody>\n",
              "</table>\n",
              "</div>"
            ],
            "text/plain": [
              "           案名        坪數   種類          位置      開價  \\\n",
              "0  中西區青年路黃金店面   21.69 坪   建地    台南中西區青年路  售1398萬   \n",
              "1  民權路商業建地送店面   66.09 坪  商業地  台南中西區中西區民權  售4200萬   \n",
              "2    湖美社區優質建地   29.93 坪   建地    台南中西區成光段  售1078萬   \n",
              "3  成功路大地坪送金店面  82.945 坪   建地    台南中西區成功路  售5650萬   \n",
              "4  海安路生活圈95建地   95.28 坪   建地    台南中西區忠孝街  售2100萬   \n",
              "\n",
              "                                                  網頁   latitude   longitude  \n",
              "0  https://www.house-info.com.tw/台南土地農地工業地建地廠房農舍道...  25.828276  100.575175  \n",
              "1  https://www.house-info.com.tw/台南市大樓套房透天別墅店面店住投...  22.996461  120.198140  \n",
              "2  https://www.house-info.com.tw/台南市土地農地建地休閒地買賣實價...        NaN         NaN  \n",
              "3  https://www.house-info.com.tw/台南幸福房地一點通0930278...  22.924673  120.286415  \n",
              "4  https://www.house-info.com.tw/好房kai模0930278328...  22.986590  120.199186  "
            ]
          },
          "execution_count": 5,
          "metadata": {},
          "output_type": "execute_result"
        }
      ],
      "source": [
        "df.head()"
      ]
    },
    {
      "cell_type": "code",
      "execution_count": 6,
      "metadata": {},
      "outputs": [],
      "source": [
        "df.to_csv('./台南土地.csv')"
      ]
    }
  ],
  "metadata": {
    "colab": {
      "name": "台南土地.ipynb",
      "provenance": []
    },
    "kernelspec": {
      "display_name": "Python 3",
      "name": "python3"
    },
    "language_info": {
      "codemirror_mode": {
        "name": "ipython",
        "version": 3
      },
      "file_extension": ".py",
      "mimetype": "text/x-python",
      "name": "python",
      "nbconvert_exporter": "python",
      "pygments_lexer": "ipython3",
      "version": "3.10.13"
    }
  },
  "nbformat": 4,
  "nbformat_minor": 0
}
